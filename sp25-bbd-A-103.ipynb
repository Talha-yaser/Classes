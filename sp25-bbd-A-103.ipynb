{
 "cells": [
  {
   "cell_type": "markdown",
   "id": "c34c297c-204d-4174-992e-eacca9c067f2",
   "metadata": {},
   "source": [
    "# Talha yaser\n",
    "# SP25-BBD-103"
   ]
  },
  {
   "cell_type": "markdown",
   "id": "12653a99-6313-49c3-84ff-9342877f66c8",
   "metadata": {},
   "source": [
    "# Question1"
   ]
  },
  {
   "cell_type": "code",
   "execution_count": 33,
   "id": "fb892812-ab1f-45f7-8215-02e20d856597",
   "metadata": {},
   "outputs": [
    {
     "name": "stdout",
     "output_type": "stream",
     "text": [
      "Ali, 30 years old, from Lahore\n"
     ]
    }
   ],
   "source": [
    "class Person:\n",
    "    def __init__(self, name, age, city):\n",
    "        self.name = name\n",
    "        self.age = age\n",
    "        self.city = city\n",
    "    def descriptive_details(self):\n",
    "        print (f\"{self.name}, {self.age} years old, from {self.city}\")\n",
    "person1 = Person(\"Ali\", 30, \"Lahore\")\n",
    "person1.descriptive_details()\n"
   ]
  },
  {
   "cell_type": "markdown",
   "id": "528fbbcd-92d0-43c0-b0ea-011072fda39e",
   "metadata": {},
   "source": [
    "# Question2"
   ]
  },
  {
   "cell_type": "code",
   "execution_count": 37,
   "id": "775373f0-3731-4ad4-adad-ce64492b0317",
   "metadata": {},
   "outputs": [
    {
     "name": "stdout",
     "output_type": "stream",
     "text": [
      "2020 Toyota MarkX\n"
     ]
    }
   ],
   "source": [
    "class Car:\n",
    "    def __init__(self, make, model, year):\n",
    "        self.make = make\n",
    "        self.model = model\n",
    "        self.year = year\n",
    "    def descriptive_details(self):\n",
    "        print (f\"{self.year} {self.make} {self.model}\")\n",
    "my_car= Car(\"Toyota\", \"MarkX\", 2020)\n",
    "my_car.descriptive_details ()"
   ]
  },
  {
   "cell_type": "markdown",
   "id": "a37f7c17-4ee0-4b1c-97f4-25976d6696c8",
   "metadata": {},
   "source": [
    "# Question3"
   ]
  },
  {
   "cell_type": "code",
   "execution_count": 43,
   "id": "27685a1c-5449-4586-b59f-5b43591502cc",
   "metadata": {},
   "outputs": [
    {
     "name": "stdout",
     "output_type": "stream",
     "text": [
      "Area: 314.1\n",
      "Circumference: 62.82\n"
     ]
    }
   ],
   "source": [
    "class Circle:\n",
    "    def __init__(self, radius):\n",
    "        self.radius = radius\n",
    "        self.pi = 3.141\n",
    "    def area(self):\n",
    "        area = self.pi * self.radius * self.radius\n",
    "        print(\"Area:\", area)\n",
    "    def circumference(self):\n",
    "        circumference = 2 * self.pi * self.radius\n",
    "        print(\"Circumference:\", circumference)\n",
    "\n",
    "c = Circle(10)\n",
    "c.area()           \n",
    "c.circumference() \n"
   ]
  },
  {
   "cell_type": "markdown",
   "id": "d6d07f8d-3e2b-49ee-8352-90927088dc9d",
   "metadata": {},
   "source": [
    "# Question4"
   ]
  },
  {
   "cell_type": "code",
   "execution_count": 61,
   "id": "7aeb4f40-b750-4e1a-af3c-5ac14ef22eb1",
   "metadata": {},
   "outputs": [
    {
     "name": "stdout",
     "output_type": "stream",
     "text": [
      "Area: 24\n",
      "perimeter: 20\n"
     ]
    }
   ],
   "source": [
    "class Rectangle:\n",
    "    def __init__(self, length, width):\n",
    "        self.length = length\n",
    "        self.width = width\n",
    "    def area(self):\n",
    "          Area= (self.length * self.width)\n",
    "          print(\"Area:\",Area)\n",
    "    def perimeter(self):\n",
    "        perimeter= 2 * (self.length + self.width)\n",
    "        print(\"perimeter:\",perimeter)\n",
    "rect = Rectangle(6, 4)\n",
    "rect.area()    \n",
    "rect.perimeter() "
   ]
  },
  {
   "cell_type": "markdown",
   "id": "a7ec2801-bce6-43f2-858b-4095919c04ee",
   "metadata": {},
   "source": [
    "# Question 5"
   ]
  },
  {
   "cell_type": "code",
   "execution_count": 66,
   "id": "94486d9e-6da3-42db-b987-c4951e0380e1",
   "metadata": {},
   "outputs": [
    {
     "name": "stdout",
     "output_type": "stream",
     "text": [
      "Average marks of Alice (Roll No: 101): 86.25\n"
     ]
    }
   ],
   "source": [
    "class Student:\n",
    "    def __init__(self, name, roll_number, marks):\n",
    "        self.name = name\n",
    "        self.roll_number = roll_number\n",
    "        self.marks = marks\n",
    "\n",
    "    def average_marks(self):\n",
    "        if len(self.marks) == 0:\n",
    "            print(\"No marks available to calculate average.\")\n",
    "        else:\n",
    "            avg = sum(self.marks) / len(self.marks)\n",
    "            print(f\"Average marks of {self.name} (Roll No: {self.roll_number}): {avg}\")\n",
    "            \n",
    "student = Student(\"Alice\", 101, [85, 90, 78, 92])\n",
    "student.average_marks()  \n"
   ]
  },
  {
   "cell_type": "markdown",
   "id": "9f5991d8-e936-4eff-9ed6-91ff69fd03b3",
   "metadata": {},
   "source": [
    "# Question 6"
   ]
  },
  {
   "cell_type": "code",
   "execution_count": 69,
   "id": "206d9ea6-0481-4964-a290-ee79e5668b66",
   "metadata": {},
   "outputs": [
    {
     "name": "stdout",
     "output_type": "stream",
     "text": [
      "Title: seerat un nabi\n",
      "Author: Dr.israr Ahmad\n",
      "Publication Year: 1925\n"
     ]
    }
   ],
   "source": [
    "class Book:\n",
    "    def __init__(self, title, author, publication_year):\n",
    "        self.title = title\n",
    "        self.author = author\n",
    "        self.publication_year = publication_year\n",
    "\n",
    "    def show_details(self):\n",
    "        print(\"Title:\", self.title)\n",
    "        print(\"Author:\", self.author)\n",
    "        print(\"Publication Year:\", self.publication_year)\n",
    "\n",
    "book = Book(\"seerat un nabi\", \"Dr.israr Ahmad\", 1925)\n",
    "book.show_details()"
   ]
  },
  {
   "cell_type": "markdown",
   "id": "f7837b75-0d6c-4ee7-a8a9-add44b8b6726",
   "metadata": {},
   "source": [
    "# Question 7"
   ]
  },
  {
   "cell_type": "code",
   "execution_count": 79,
   "id": "597226a9-68d1-4258-a50b-5389ffe75872",
   "metadata": {},
   "outputs": [
    {
     "name": "stdout",
     "output_type": "stream",
     "text": [
      "Name: Qazi Anwar\n",
      "Salary: 500000\n",
      "Designation: Data Analyst\n"
     ]
    }
   ],
   "source": [
    "class Employee:\n",
    "    def __init__(self, name, salary, designation):\n",
    "        self.name = name\n",
    "        self.salary = salary\n",
    "        self.designation = designation\n",
    "\n",
    "    def show_details(self):\n",
    "        print(\"Name:\", self.name)\n",
    "        print(\"Salary:\", self.salary)\n",
    "        print(\"Designation:\", self.designation)\n",
    "        \n",
    "emp = Employee(\"Qazi Anwar\", 500000, \"Data Analyst\")\n",
    "emp.show_details()"
   ]
  },
  {
   "cell_type": "markdown",
   "id": "e9542824-ab99-4192-8d2e-c55c425f7a07",
   "metadata": {},
   "source": [
    "# Question 8"
   ]
  },
  {
   "cell_type": "code",
   "execution_count": 89,
   "id": "cee536d6-5e6d-4b3c-bbfd-507240c61be5",
   "metadata": {},
   "outputs": [
    {
     "name": "stdout",
     "output_type": "stream",
     "text": [
      "Account Holder: $Abdullah\n",
      "Account Number: 3874339404903\n",
      "Current Balance: $1000.0\n",
      "Deposited $400. New balance: $1400.0\n",
      "Withdrew $500. New balance: $900.0\n",
      "Insufficient funds.\n",
      "Account Holder: $Abdullah\n",
      "Account Number: 3874339404903\n",
      "Current Balance: $900.0\n"
     ]
    }
   ],
   "source": [
    "class Bank:\n",
    "    def __init__(self, name, account_number, balance=0.0):\n",
    "        self.name = name\n",
    "        self.account_number = account_number\n",
    "        self.balance = balance\n",
    "\n",
    "    def deposit(self, amount):\n",
    "        if amount > 0:\n",
    "            self.balance += amount\n",
    "            print(f\"Deposited ${amount}. New balance: ${self.balance}\")\n",
    "        else:\n",
    "            print(\"Deposit amount must be positive.\")\n",
    "\n",
    "    def withdraw(self, amount):\n",
    "        if amount > self.balance:\n",
    "            print(\"Insufficient funds.\")\n",
    "        elif amount <= 0:\n",
    "            print(\"Withdrawal amount must be positive.\")\n",
    "        else:\n",
    "            self.balance -= amount\n",
    "            print(f\"Withdrew ${amount}. New balance: ${self.balance}\")\n",
    "\n",
    "    def display_account_info(self):\n",
    "        print(f\"Account Holder: ${self.name}\")\n",
    "        print(f\"Account Number: {self.account_number}\")\n",
    "        print(f\"Current Balance: ${self.balance}\")\n",
    "\n",
    "account1 = Bank(\"Abdullah\", \"3874339404903\", 1000.0)\n",
    "account1.display_account_info()\n",
    "\n",
    "account1.deposit(400)\n",
    "account1.withdraw(500)\n",
    "account1.withdraw(1500)  \n",
    "account1.display_account_info()"
   ]
  },
  {
   "cell_type": "markdown",
   "id": "0fbc3bdc-9dbe-4340-b54d-94f27327c9fb",
   "metadata": {},
   "source": [
    "# Question 9"
   ]
  },
  {
   "cell_type": "code",
   "execution_count": 108,
   "id": "f2b344c0-444b-4e14-9c56-4dce9591b14e",
   "metadata": {},
   "outputs": [
    {
     "name": "stdout",
     "output_type": "stream",
     "text": [
      "Circle area: 201.09\n",
      "Rectangle area: 18.00\n",
      "Triangle area: 13.50\n"
     ]
    }
   ],
   "source": [
    "class Shape:\n",
    "    def area(self):\n",
    "        return None  \n",
    "        \n",
    "class Circle(Shape):\n",
    "    def __init__(self, radius):\n",
    "        self.radius = radius\n",
    "    def area(self):\n",
    "        pi = 3.142\n",
    "        return pi * self.radius ** 2\n",
    "        \n",
    "class Rectangle(Shape):\n",
    "    def __init__(self, width, height):\n",
    "        self.width = width\n",
    "        self.height = height\n",
    "        \n",
    "    def area(self):\n",
    "        return self.width * self.height\n",
    "\n",
    "class Triangle(Shape):\n",
    "    def __init__(self, base, height):\n",
    "        self.base = base\n",
    "        self.height = height\n",
    "\n",
    "    def area(self):\n",
    "        return 0.5 * self.base * self.height\n",
    "\n",
    "shapes = [\n",
    "    Circle(8),\n",
    "    Rectangle(3, 6),\n",
    "    Triangle(3, 9),\n",
    "]\n",
    "\n",
    "for shape in shapes:\n",
    "    area = shape.area()\n",
    "    if area is not None:\n",
    "        print(f\"{shape.__class__.__name__} area: {area:.2f}\")\n",
    "    else:\n",
    "        print(f\"{shape.__class__.__name__} has no area calculation.\")"
   ]
  },
  {
   "cell_type": "markdown",
   "id": "a464f726-94e0-4052-b056-35f54264467c",
   "metadata": {},
   "source": [
    "# Question 10"
   ]
  },
  {
   "cell_type": "code",
   "execution_count": 115,
   "id": "8cefef2b-ca01-4f76-b380-d91e5ff44beb",
   "metadata": {},
   "outputs": [
    {
     "name": "stdout",
     "output_type": "stream",
     "text": [
      "Simba says Woof\n",
      "Tom says Meow\n",
      "cow says Moo\n"
     ]
    }
   ],
   "source": [
    "class Animal:\n",
    "    def __init__(self, name, sound):\n",
    "        self.name = name\n",
    "        self.sound = sound\n",
    "\n",
    "    def make_sound(self):\n",
    "        return f\"{self.name} says {self.sound}\"\n",
    "\n",
    "class Dog(Animal):\n",
    "    def __init__(self, name):\n",
    "        super().__init__(name, \"Woof\")\n",
    "\n",
    "class Cat(Animal):\n",
    "    def __init__(self, name):\n",
    "        super().__init__(name, \"Meow\")\n",
    "\n",
    "class Cow(Animal):\n",
    "    def __init__(self, name):\n",
    "        super().__init__(name, \"Moo\")\n",
    "\n",
    "if __name__ == \"__main__\":\n",
    "    animals = [\n",
    "        Dog(\"Simba\"),\n",
    "        Cat(\"Tom\"),\n",
    "        Cow(\"cow\")\n",
    "    ]\n",
    "\n",
    "    for animal in animals:\n",
    "        print(animal.make_sound())"
   ]
  },
  {
   "cell_type": "code",
   "execution_count": null,
   "id": "6b579e1c-25fb-47d9-89de-dd650f331fc2",
   "metadata": {},
   "outputs": [],
   "source": []
  }
 ],
 "metadata": {
  "kernelspec": {
   "display_name": "Python 3 (ipykernel)",
   "language": "python",
   "name": "python3"
  },
  "language_info": {
   "codemirror_mode": {
    "name": "ipython",
    "version": 3
   },
   "file_extension": ".py",
   "mimetype": "text/x-python",
   "name": "python",
   "nbconvert_exporter": "python",
   "pygments_lexer": "ipython3",
   "version": "3.12.4"
  }
 },
 "nbformat": 4,
 "nbformat_minor": 5
}
